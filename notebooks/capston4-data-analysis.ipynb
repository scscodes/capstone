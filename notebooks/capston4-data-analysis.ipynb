{
 "cells": [
  {
   "metadata": {},
   "cell_type": "markdown",
   "source": [
    "# Medical Model Monitor | M3\n",
    "##### Capstone 4: Applied Model Application\n",
    "---\n",
    "\n",
    "## Use Case & Scenario\n",
    "- **Problem Statement:**\n",
    "Hospitals struggle to continuously monitor patients' vital signs and promptly identify those at risk of adverse events. Complex data and environmental factors can delay intervention, increase risk, and incur higher expense.\n",
    "\n",
    "- **Solution:**\n",
    "A mobile and desktop application that notifies staff of patients needing assistance. From a technical perspective, this involves training a range of models to establish a baseline of knowledge, creating a prediction for values based on historical analysis, and managing real-time inputs for validation.\n",
    "\n",
    "\n",
    "---\n",
    "\n",
    "## Approach\n",
    "Considering the scope, data analysis will be logically separate from model development. This will help reduce overhead and visual complexity. As such, please make sure you're reviewing the correct notebook:\n",
    "\n",
    "- Data Collection & Analysis `<- you are here`\n",
    "- Model Development\n",
    "\n",
    "\n",
    "## Notebook Structure\n",
    "- Prerequisites; imports, generic functions\n",
    "- Data import and extraction\n",
    "- Analysis of raw data\n",
    "- Cleaning and generalizations\n",
    "- Analysis of transformed data\n",
    "---"
   ],
   "id": "497832f349d3eaff"
  },
  {
   "metadata": {},
   "cell_type": "markdown",
   "source": [
    "# Data Authorization and Access\n",
    "Research-grade medical data is considered public, but retains certain safeguards to deter improper use and mitigate risk. This introduced some delay as various steps were completed, and requests were processed by third party teams and systems. These prerequisites were anticipated though, as outlined in the project proposal. \n",
    "\n",
    "To summarize, the following steps were completed in order to gain access to the `MIMIC IV` dataset:\n",
    "1. Registration on PhysioNet website\n",
    "2. PhysioNet application review and approval; use case and reference evaluation\n",
    "3. Training Completion; CITI 'Data or Specimens Only Research Training'\n",
    "4. Code of Conduct agreement\n",
    "5. Credentialed Health Data Use Agreement (per dataset)\n",
    "\n",
    "After all steps were completed, access was granted to `credentialed datasets`, to include the `MIMIC IV` dataset."
   ],
   "id": "a4752b1966b6f47e"
  },
  {
   "metadata": {},
   "cell_type": "markdown",
   "source": [
    "# Data Extraction and Loading\n",
    "\n",
    "Post-authorization, I elected to locally store the ~120 GB dataset in `PostgreSQL` over cloud-based access. This incurred a restricted download (500 kb/s) over ~19 hours for all zipped tables to complete. The end result, two datasets, comprising over half a million records, for over a quarter-million individuals.\n",
    "\n",
    "\n",
    "| Records (Qty) | Scope              |\n",
    "|---------------|--------------------|\n",
    "| 364,627       | unique individuals |\n",
    "| 546,028       | hospitalizations   |\n",
    "| 94,458        | unique ICU stays   |\n",
    "\n",
    "\n",
    "> `hosp` contains `546,028 hospitalizations` for `223,452 unique individuals`  \n",
    "> `icu` contains `94,458 ICU stays` for `65,366 unique individuals`"
   ],
   "id": "cf87e8ecbd584ee3"
  },
  {
   "metadata": {},
   "cell_type": "markdown",
   "source": [
    "# Data Visual Inspection\n",
    "With records unzipped and imported into `PostgreSQL` I could begin inspecting table columns.\n",
    "\n",
    "## .High frequency of `null` values\n",
    "Despite broad use, `null` values should remain in most cases.  \n",
    "Larger tables combine various events that are inherently unique, and could be degraded in quality if subjected to rounding, interpolation or similar data manipulation. While handling varies by each case, generally speaking, high-level analysis may be inclined to `drop` such columns, whereas fine-grained analysis may `filter` records on specific data types and values.\n",
    "\n",
    "## .Depersonalization; Modification of Date and Age values\n",
    "Outlined in the official documentation, all personally identifiable information has been scrubbed from `MIMIC-IV`, and date/age values have been shifted at random, but retain their relation. These transformed values map to subsequent `anchor` columns, explained below:   \n",
    "\n",
    "The `anchor_year` column is a deidentified year occurring sometime between 2100 - 2200.  \n",
    "The `anchor_year_group` column is one of the following values: \"2008 - 2010\", \"2011 - 2013\", \"2014 - 2016\", \"2017 - 2019\", and \"2020 - 2022\".  \n",
    "> Example: if a patient's `anchor_year` is 2158, and their `anchor_year_group` is 2011 - 2013, then any hospitalizations for the patient occurring in the year 2158 actually occurred sometime between 2011 - 2013.\n",
    "\n",
    "\n",
    "The `anchor_age` provides the patient age in the given `anchor_year`.\n",
    "> Example: If the patient was over 89 in the `anchor_year`, this `anchor_age` has been set to 91 (i.e. all patients over 89 have been grouped together into a single group with value 91, regardless of what their real age was).\n",
    "\n",
    "## .Summary\n",
    "To reiterate, retaining `null` values will vary by context. From basic analysis, it appears they will be ignored/dropped when performing broad-spectrum queries, where such detailed values would be irrelevant. Conversely, specific analysis, such as queries based on a specific condition, medication, or person, may benefit from retaining them, providing detailed insight on both condition and treatment.\n",
    "\n",
    "This review affirms the machine learning algorithms and models chosen in the project proposal. There is a substantial amount of variability, with highly dimensional tables spanning a very broad range of topics and events. Selection of Random Forest, Gradient Descent and Neural Networks is far more applicable than their linear counterparts, which would struggle with overfitting and context development."
   ],
   "id": "40b485b3a0eeb607"
  },
  {
   "metadata": {
    "jupyter": {
     "is_executing": true
    }
   },
   "cell_type": "code",
   "source": "",
   "id": "299a17098e24d6e1",
   "outputs": [],
   "execution_count": null
  }
 ],
 "metadata": {
  "kernelspec": {
   "display_name": "Python 3",
   "language": "python",
   "name": "python3"
  },
  "language_info": {
   "codemirror_mode": {
    "name": "ipython",
    "version": 2
   },
   "file_extension": ".py",
   "mimetype": "text/x-python",
   "name": "python",
   "nbconvert_exporter": "python",
   "pygments_lexer": "ipython2",
   "version": "2.7.6"
  }
 },
 "nbformat": 4,
 "nbformat_minor": 5
}
