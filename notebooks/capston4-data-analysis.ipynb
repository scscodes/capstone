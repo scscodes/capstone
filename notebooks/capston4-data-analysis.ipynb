{
 "cells": [
  {
   "metadata": {},
   "cell_type": "markdown",
   "source": [
    "# Medical Model Monitor | M3\n",
    "##### Capstone 4: Applied Model Application\n",
    "---\n",
    "\n",
    "## Use Case & Scenario\n",
    "- **Problem Statement:**\n",
    "Hospitals struggle to continuously monitor patients' vital signs and promptly identify those at risk of adverse events. Complex data and environmental factors can delay intervention, increase risk, and incur higher expense.\n",
    "\n",
    "- **Solution:**\n",
    "A mobile and desktop application that notifies staff of patients needing assistance. From a technical perspective, this involves training a range of models to establish a baseline of knowledge, creating a prediction for values based on historical analysis, and managing real-time inputs for validation.\n",
    "\n",
    "\n",
    "---\n",
    "\n",
    "## Approach\n",
    "Considering the scope, data analysis will be logically separate from model development. This will help reduce overhead and visual complexity. As such, please make sure you're reviewing the correct notebook:\n",
    "\n",
    "- Data Collection & Analysis `<- you are here`\n",
    "- Model Development\n",
    "\n",
    "\n",
    "## Notebook Structure\n",
    "- Prerequisites; imports, generic functions\n",
    "- Data import and extraction\n",
    "- Analysis of raw data\n",
    "- Cleaning and generalizations\n",
    "- Analysis of transformed data\n"
   ],
   "id": "fb978edc4d8511e4"
  },
  {
   "cell_type": "code",
   "execution_count": null,
   "id": "initial_id",
   "metadata": {
    "collapsed": true
   },
   "outputs": [],
   "source": [
    ""
   ]
  }
 ],
 "metadata": {
  "kernelspec": {
   "display_name": "Python 3",
   "language": "python",
   "name": "python3"
  },
  "language_info": {
   "codemirror_mode": {
    "name": "ipython",
    "version": 2
   },
   "file_extension": ".py",
   "mimetype": "text/x-python",
   "name": "python",
   "nbconvert_exporter": "python",
   "pygments_lexer": "ipython2",
   "version": "2.7.6"
  }
 },
 "nbformat": 4,
 "nbformat_minor": 5
}
